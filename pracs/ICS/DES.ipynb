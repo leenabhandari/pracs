{
 "cells": [
  {
   "cell_type": "code",
   "execution_count": 49,
   "metadata": {
    "collapsed": true
   },
   "outputs": [],
   "source": [
    "import numpy as np"
   ]
  },
  {
   "cell_type": "code",
   "execution_count": 79,
   "metadata": {
    "collapsed": true
   },
   "outputs": [],
   "source": [
    "def encrypt(key,plain):\n",
    "    k1,k2=generate(key)\n",
    "    pl,pr=split(IP(plain))\n",
    "    x1,x2=split(XOR(EP(pr),k1))\n",
    "    s=s_arr(s0(x1)+s1(x2))\n",
    "    left=XOR(P4(s),pl)\n",
    "    right=pr\n",
    "    y1,y2=split(XOR(EP(left),k2))\n",
    "    s11=s_arr(s0(y1)+s1(y2))\n",
    "    cipher=IPinv(XOR(P4(s11),right)+left)\n",
    "    return cipher"
   ]
  },
  {
   "cell_type": "code",
   "execution_count": 93,
   "metadata": {
    "collapsed": true
   },
   "outputs": [],
   "source": [
    "def decrypt(key,cipher):\n",
    "    k1,k2=generate(key)\n",
    "    pl,pr=split(IP(cipher))\n",
    "    x1,x2=split(XOR(EP(pr),k2))\n",
    "    s=s_arr(s0(x1)+s1(x2))\n",
    "    left=XOR(P4(s),pl)\n",
    "    right=pr\n",
    "    y1,y2=split(XOR(EP(left),k1))\n",
    "    s11=s_arr(s0(y1)+s1(y2))\n",
    "    decipher=IPinv(XOR(P4(s11),right)+left)\n",
    "    return decipher"
   ]
  },
  {
   "cell_type": "code",
   "execution_count": 52,
   "metadata": {
    "collapsed": true
   },
   "outputs": [],
   "source": [
    "def generate(key):\n",
    "    kl,kr=split(P10(key))\n",
    "    kl=LS1(kl)\n",
    "    kr=LS1(kr)\n",
    "    key1=P8(kl+kr)\n",
    "    kl=LS2(kl)\n",
    "    kr=LS2(kr)\n",
    "    key2=P8(kl+kr)\n",
    "    return key1,key2"
   ]
  },
  {
   "cell_type": "code",
   "execution_count": 53,
   "metadata": {
    "collapsed": true
   },
   "outputs": [],
   "source": [
    "def LS1(arr):\n",
    "    arr=np.asarray(arr)\n",
    "    arr=np.roll(arr,-1)\n",
    "    arr=arr.tolist()\n",
    "    return arr"
   ]
  },
  {
   "cell_type": "code",
   "execution_count": 54,
   "metadata": {
    "collapsed": true
   },
   "outputs": [],
   "source": [
    "def LS2(arr):\n",
    "    arr=np.asarray(arr)\n",
    "    arr=np.roll(arr,-2)\n",
    "    arr=arr.tolist()\n",
    "    return arr"
   ]
  },
  {
   "cell_type": "code",
   "execution_count": 55,
   "metadata": {},
   "outputs": [
    {
     "data": {
      "text/plain": [
       "[1, 1, 1, 0]"
      ]
     },
     "execution_count": 55,
     "metadata": {},
     "output_type": "execute_result"
    }
   ],
   "source": [
    "LS2([1,0,1,1])"
   ]
  },
  {
   "cell_type": "code",
   "execution_count": 56,
   "metadata": {
    "collapsed": true
   },
   "outputs": [],
   "source": [
    "def split(arr):\n",
    "    n=int(len(arr)/2)\n",
    "    a1=arr[:n]\n",
    "    a2=arr[n:]\n",
    "    return a1,a2"
   ]
  },
  {
   "cell_type": "code",
   "execution_count": 57,
   "metadata": {},
   "outputs": [
    {
     "data": {
      "text/plain": [
       "([1, 0], [1, 1])"
      ]
     },
     "execution_count": 57,
     "metadata": {},
     "output_type": "execute_result"
    }
   ],
   "source": [
    "split([1,0,1,1])"
   ]
  },
  {
   "cell_type": "code",
   "execution_count": 58,
   "metadata": {
    "collapsed": true
   },
   "outputs": [],
   "source": [
    "def P8(arr):\n",
    "    p8arr = []\n",
    "    p8arr.append(arr[5])\n",
    "    p8arr.append(arr[2])\n",
    "    p8arr.append(arr[6])\n",
    "    p8arr.append(arr[3])\n",
    "    p8arr.append(arr[7])\n",
    "    p8arr.append(arr[4])\n",
    "    p8arr.append(arr[9])\n",
    "    p8arr.append(arr[8])\n",
    "    return p8arr"
   ]
  },
  {
   "cell_type": "code",
   "execution_count": 59,
   "metadata": {
    "collapsed": true
   },
   "outputs": [],
   "source": [
    "def P10(arr):\n",
    "    p10arr = []\n",
    "    p10arr.append(arr[2])\n",
    "    p10arr.append(arr[4])\n",
    "    p10arr.append(arr[1])\n",
    "    p10arr.append(arr[6])\n",
    "    p10arr.append(arr[3])\n",
    "    p10arr.append(arr[9])\n",
    "    p10arr.append(arr[0])\n",
    "    p10arr.append(arr[8])\n",
    "    p10arr.append(arr[7])\n",
    "    p10arr.append(arr[5])\n",
    "    return p10arr"
   ]
  },
  {
   "cell_type": "code",
   "execution_count": 60,
   "metadata": {},
   "outputs": [
    {
     "data": {
      "text/plain": [
       "([1, 1, 1, 0, 0, 1, 1, 0], [0, 1, 0, 1, 1, 0, 1, 1])"
      ]
     },
     "execution_count": 60,
     "metadata": {},
     "output_type": "execute_result"
    }
   ],
   "source": [
    "generate([1, 0, 1, 0, 1, 0, 1, 0, 1, 1])"
   ]
  },
  {
   "cell_type": "code",
   "execution_count": 61,
   "metadata": {
    "collapsed": true
   },
   "outputs": [],
   "source": [
    "def IP(arr):\n",
    "    iparr=[]\n",
    "    iparr.append(arr[1])\n",
    "    iparr.append(arr[5])\n",
    "    iparr.append(arr[2])\n",
    "    iparr.append(arr[0])\n",
    "    iparr.append(arr[3])\n",
    "    iparr.append(arr[7])\n",
    "    iparr.append(arr[4])\n",
    "    iparr.append(arr[6])\n",
    "    return iparr"
   ]
  },
  {
   "cell_type": "code",
   "execution_count": 62,
   "metadata": {
    "collapsed": true
   },
   "outputs": [],
   "source": [
    "def IPinv(arr):\n",
    "    iparr=[]\n",
    "    iparr.append(arr[3])\n",
    "    iparr.append(arr[0])\n",
    "    iparr.append(arr[2])\n",
    "    iparr.append(arr[4])\n",
    "    iparr.append(arr[6])\n",
    "    iparr.append(arr[1])\n",
    "    iparr.append(arr[7])\n",
    "    iparr.append(arr[5])\n",
    "    return iparr"
   ]
  },
  {
   "cell_type": "code",
   "execution_count": 63,
   "metadata": {
    "collapsed": true
   },
   "outputs": [],
   "source": [
    "def EP(arr):\n",
    "    iparr=[]\n",
    "    iparr.append(arr[3])\n",
    "    iparr.append(arr[0])\n",
    "    iparr.append(arr[1])\n",
    "    iparr.append(arr[2])\n",
    "    iparr.append(arr[1])\n",
    "    iparr.append(arr[2])\n",
    "    iparr.append(arr[3])\n",
    "    iparr.append(arr[0])\n",
    "    return iparr"
   ]
  },
  {
   "cell_type": "code",
   "execution_count": 82,
   "metadata": {
    "collapsed": true
   },
   "outputs": [],
   "source": [
    "def s_arr(stri):\n",
    "    ss=[]\n",
    "    for i in range(0,len(stri)):\n",
    "        ss.append(int(stri[i]))\n",
    "    return ss"
   ]
  },
  {
   "cell_type": "code",
   "execution_count": 65,
   "metadata": {},
   "outputs": [
    {
     "ename": "TypeError",
     "evalue": "'type' object is not subscriptable",
     "output_type": "error",
     "traceback": [
      "\u001b[1;31m---------------------------------------------------------------------------\u001b[0m",
      "\u001b[1;31mTypeError\u001b[0m                                 Traceback (most recent call last)",
      "\u001b[1;32m<ipython-input-65-007ff364863b>\u001b[0m in \u001b[0;36m<module>\u001b[1;34m()\u001b[0m\n\u001b[1;32m----> 1\u001b[1;33m \u001b[0ms_arr\u001b[0m\u001b[1;33m(\u001b[0m\u001b[1;34m'10110101'\u001b[0m\u001b[1;33m)\u001b[0m\u001b[1;33m\u001b[0m\u001b[1;33m\u001b[0m\u001b[0m\n\u001b[0m",
      "\u001b[1;32m<ipython-input-64-c230b1c04e81>\u001b[0m in \u001b[0;36ms_arr\u001b[1;34m(stri)\u001b[0m\n\u001b[0;32m      2\u001b[0m     \u001b[0mss\u001b[0m\u001b[1;33m=\u001b[0m\u001b[1;33m[\u001b[0m\u001b[1;33m]\u001b[0m\u001b[1;33m\u001b[0m\u001b[1;33m\u001b[0m\u001b[0m\n\u001b[0;32m      3\u001b[0m     \u001b[1;32mfor\u001b[0m \u001b[0mi\u001b[0m \u001b[1;32min\u001b[0m \u001b[0mrange\u001b[0m\u001b[1;33m(\u001b[0m\u001b[1;36m0\u001b[0m\u001b[1;33m,\u001b[0m\u001b[0mlen\u001b[0m\u001b[1;33m(\u001b[0m\u001b[0mstri\u001b[0m\u001b[1;33m)\u001b[0m\u001b[1;33m)\u001b[0m\u001b[1;33m:\u001b[0m\u001b[1;33m\u001b[0m\u001b[1;33m\u001b[0m\u001b[0m\n\u001b[1;32m----> 4\u001b[1;33m         \u001b[0mss\u001b[0m\u001b[1;33m.\u001b[0m\u001b[0mappend\u001b[0m\u001b[1;33m(\u001b[0m\u001b[0mint\u001b[0m\u001b[1;33m[\u001b[0m\u001b[0mstri\u001b[0m\u001b[1;33m[\u001b[0m\u001b[0mi\u001b[0m\u001b[1;33m]\u001b[0m\u001b[1;33m]\u001b[0m\u001b[1;33m)\u001b[0m\u001b[1;33m\u001b[0m\u001b[1;33m\u001b[0m\u001b[0m\n\u001b[0m\u001b[0;32m      5\u001b[0m     \u001b[1;32mreturn\u001b[0m \u001b[0mss\u001b[0m\u001b[1;33m\u001b[0m\u001b[1;33m\u001b[0m\u001b[0m\n",
      "\u001b[1;31mTypeError\u001b[0m: 'type' object is not subscriptable"
     ]
    }
   ],
   "source": [
    "s_arr('10110101')"
   ]
  },
  {
   "cell_type": "code",
   "execution_count": 92,
   "metadata": {},
   "outputs": [],
   "source": [
    "S0= [[\"01\", \"00\", \"11\",\"10\"],\n",
    "\n",
    "[\"11\", \"10\", \"01\", \"00\"],\n",
    "\n",
    "[\"00\", \"10\", \"01\", \"11\"],\n",
    "\n",
    "[\"11\", \"01\", \"11\", \"10\"]]"
   ]
  },
  {
   "cell_type": "code",
   "execution_count": 88,
   "metadata": {
    "collapsed": true
   },
   "outputs": [],
   "source": [
    "def s0(arr):\n",
    "    r=str(arr[0])+str(arr[3])\n",
    "    r=int(r,2)\n",
    "    c=str(arr[1])+str(arr[2])\n",
    "    c=int(c,2)\n",
    "    val=S0[r][c]\n",
    "    return val"
   ]
  },
  {
   "cell_type": "code",
   "execution_count": 68,
   "metadata": {},
   "outputs": [
    {
     "data": {
      "text/plain": [
       "'10'"
      ]
     },
     "execution_count": 68,
     "metadata": {},
     "output_type": "execute_result"
    }
   ],
   "source": [
    "s0([1,0,1,1])"
   ]
  },
  {
   "cell_type": "code",
   "execution_count": 91,
   "metadata": {
    "collapsed": true
   },
   "outputs": [],
   "source": [
    "S1= [[\"00\", \"01\", \"10\", \"11\"],\n",
    "\n",
    "[\"10\", \"00\", \"01\", \"11\"],\n",
    "\n",
    "[\"11\", \"00\", \"01\", \"00\"],\n",
    "\n",
    "[\"10\", \"01\", \"00\", \"11\"]]"
   ]
  },
  {
   "cell_type": "code",
   "execution_count": 89,
   "metadata": {
    "collapsed": true
   },
   "outputs": [],
   "source": [
    "def s1(arr):\n",
    "    r=str(arr[0])+str(arr[3])\n",
    "    r=int(r,2)\n",
    "    c=str(arr[1])+str(arr[2])\n",
    "    c=int(c,2)\n",
    "    val=S1[r][c]\n",
    "    return val"
   ]
  },
  {
   "cell_type": "code",
   "execution_count": 72,
   "metadata": {
    "collapsed": true
   },
   "outputs": [],
   "source": [
    "def P4(arr):\n",
    "    p10arr = []\n",
    "    p10arr.append(arr[1])\n",
    "    p10arr.append(arr[3])\n",
    "    p10arr.append(arr[2])\n",
    "    p10arr.append(arr[0])\n",
    "    return p10arr"
   ]
  },
  {
   "cell_type": "code",
   "execution_count": 94,
   "metadata": {},
   "outputs": [
    {
     "name": "stdout",
     "output_type": "stream",
     "text": [
      "[1, 0, 1, 0, 0, 1, 0, 1]\n",
      "[1, 0, 1, 0, 0, 1, 0, 1]\n"
     ]
    }
   ],
   "source": [
    "key = [1, 0, 1, 0, 1, 0, 1, 0, 1, 1]\n",
    "plaintext = [1, 0, 1, 0, 0, 1, 0, 1]\n",
    "ciphertext = encrypt(key, plaintext)\n",
    "decipher = decrypt(key, ciphertext)\n",
    "print(decipher)\n",
    "print(plaintext)"
   ]
  },
  {
   "cell_type": "code",
   "execution_count": 74,
   "metadata": {
    "collapsed": true
   },
   "outputs": [],
   "source": [
    "def XOR(a,b):\n",
    "    a=np.asarray(a)\n",
    "    b=np.asarray(b)\n",
    "    c=np.logical_xor(a,b)\n",
    "    c=c.astype(int)\n",
    "    c=c.tolist()\n",
    "    return c"
   ]
  },
  {
   "cell_type": "code",
   "execution_count": 78,
   "metadata": {},
   "outputs": [
    {
     "data": {
      "text/plain": [
       "'11'"
      ]
     },
     "execution_count": 78,
     "metadata": {},
     "output_type": "execute_result"
    }
   ],
   "source": [
    "s1([1,0,1,0,1])"
   ]
  },
  {
   "cell_type": "code",
   "execution_count": 87,
   "metadata": {},
   "outputs": [
    {
     "data": {
      "text/plain": [
       "[0, 1, 0]"
      ]
     },
     "execution_count": 87,
     "metadata": {},
     "output_type": "execute_result"
    }
   ],
   "source": [
    "XOR([1,1,1],[1,0,1])"
   ]
  },
  {
   "cell_type": "code",
   "execution_count": null,
   "metadata": {
    "collapsed": true
   },
   "outputs": [],
   "source": []
  }
 ],
 "metadata": {
  "kernelspec": {
   "display_name": "Python 3",
   "language": "python",
   "name": "python3"
  },
  "language_info": {
   "codemirror_mode": {
    "name": "ipython",
    "version": 3
   },
   "file_extension": ".py",
   "mimetype": "text/x-python",
   "name": "python",
   "nbconvert_exporter": "python",
   "pygments_lexer": "ipython3",
   "version": "3.6.7"
  }
 },
 "nbformat": 4,
 "nbformat_minor": 2
}
