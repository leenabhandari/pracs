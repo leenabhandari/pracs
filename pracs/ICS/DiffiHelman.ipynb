{
 "cells": [
  {
   "cell_type": "code",
   "execution_count": 3,
   "metadata": {},
   "outputs": [
    {
     "name": "stdout",
     "output_type": "stream",
     "text": [
      "Enter p: 29\n",
      "Enter q: 11\n",
      "Enter a: 3\n",
      "Enter b: 5\n",
      "x= 26\n",
      "y= 14\n",
      "After exchange...\n",
      "ka= 18\n",
      "Kb= 18\n",
      "Successful\n"
     ]
    }
   ],
   "source": [
    "P=int(input(\"Enter p: \"))\n",
    "Q=int(input(\"Enter q: \"))\n",
    "a=int(input(\"Enter a: \"))\n",
    "b=int(input(\"Enter b: \"))\n",
    "\n",
    "x=Q**a%P\n",
    "y=Q**b%P\n",
    "\n",
    "print(\"x=\",x)\n",
    "print(\"y=\",y)\n",
    "\n",
    "print(\"After exchange...\")\n",
    "\n",
    "ka=y**a%P\n",
    "kb=x**b%P\n",
    "\n",
    "print(\"ka=\",ka)\n",
    "print(\"Kb=\",kb)\n",
    "\n",
    "if(ka==kb):\n",
    "    print(\"Successful\")\n",
    "else:\n",
    "    print(\"fail\")"
   ]
  },
  {
   "cell_type": "code",
   "execution_count": null,
   "metadata": {
    "collapsed": true
   },
   "outputs": [],
   "source": []
  }
 ],
 "metadata": {
  "kernelspec": {
   "display_name": "Python 3",
   "language": "python",
   "name": "python3"
  },
  "language_info": {
   "codemirror_mode": {
    "name": "ipython",
    "version": 3
   },
   "file_extension": ".py",
   "mimetype": "text/x-python",
   "name": "python",
   "nbconvert_exporter": "python",
   "pygments_lexer": "ipython3",
   "version": "3.6.7"
  }
 },
 "nbformat": 4,
 "nbformat_minor": 2
}
