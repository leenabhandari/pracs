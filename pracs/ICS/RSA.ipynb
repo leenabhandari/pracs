{
 "cells": [
  {
   "cell_type": "code",
   "execution_count": 1,
   "metadata": {
    "collapsed": true
   },
   "outputs": [],
   "source": [
    "import sympy"
   ]
  },
  {
   "cell_type": "code",
   "execution_count": 4,
   "metadata": {
    "collapsed": true
   },
   "outputs": [],
   "source": [
    "def prime(x):\n",
    "    if(sympy.isprime(x)):\n",
    "        return True\n",
    "    else:\n",
    "        return False"
   ]
  },
  {
   "cell_type": "code",
   "execution_count": 6,
   "metadata": {},
   "outputs": [
    {
     "data": {
      "text/plain": [
       "True"
      ]
     },
     "execution_count": 6,
     "metadata": {},
     "output_type": "execute_result"
    }
   ],
   "source": [
    "prime(5)"
   ]
  },
  {
   "cell_type": "code",
   "execution_count": 7,
   "metadata": {
    "collapsed": true
   },
   "outputs": [],
   "source": [
    "def gcd(x,y):\n",
    "    return sympy.gcd(x,y)"
   ]
  },
  {
   "cell_type": "code",
   "execution_count": 8,
   "metadata": {},
   "outputs": [
    {
     "data": {
      "text/plain": [
       "2"
      ]
     },
     "execution_count": 8,
     "metadata": {},
     "output_type": "execute_result"
    }
   ],
   "source": [
    "gcd(4,2)"
   ]
  },
  {
   "cell_type": "code",
   "execution_count": 9,
   "metadata": {
    "collapsed": true
   },
   "outputs": [],
   "source": [
    "import sys\n",
    "def calc(phi):\n",
    "    t=phi+1\n",
    "    for i in range(2,phi):\n",
    "        if(prime(i) and t%i==0):\n",
    "            e=i;\n",
    "            d=int(t/e)\n",
    "            return e,d\n",
    "        if(i==phi-1):\n",
    "            sys.exit(\"Cannot compute for these values..\")\n",
    "        "
   ]
  },
  {
   "cell_type": "code",
   "execution_count": 17,
   "metadata": {},
   "outputs": [
    {
     "name": "stdout",
     "output_type": "stream",
     "text": [
      "Enter p: 17\n",
      "Enter q: 11\n",
      "Enter original number: 107\n",
      "Encrypted message:  112\n",
      "Decrypted message:  107\n"
     ]
    }
   ],
   "source": [
    "p=int(input(\"Enter p: \"))\n",
    "q=int(input(\"Enter q: \"))\n",
    "n=p*q\n",
    "phi=(p-1)*(q-1)\n",
    "e,d=calc(phi)\n",
    "msg=int(input(\"Enter original number: \"))\n",
    "encrypt=pow(msg,e,n)\n",
    "print(\"Encrypted message: \",encrypt)\n",
    "decrypt=pow(encrypt,d,n)\n",
    "print(\"Decrypted message: \",decrypt)"
   ]
  },
  {
   "cell_type": "code",
   "execution_count": 11,
   "metadata": {
    "collapsed": true
   },
   "outputs": [],
   "source": [
    "?pow()"
   ]
  },
  {
   "cell_type": "code",
   "execution_count": null,
   "metadata": {
    "collapsed": true
   },
   "outputs": [],
   "source": []
  }
 ],
 "metadata": {
  "kernelspec": {
   "display_name": "Python 3",
   "language": "python",
   "name": "python3"
  },
  "language_info": {
   "codemirror_mode": {
    "name": "ipython",
    "version": 3
   },
   "file_extension": ".py",
   "mimetype": "text/x-python",
   "name": "python",
   "nbconvert_exporter": "python",
   "pygments_lexer": "ipython3",
   "version": "3.6.7"
  }
 },
 "nbformat": 4,
 "nbformat_minor": 2
}
